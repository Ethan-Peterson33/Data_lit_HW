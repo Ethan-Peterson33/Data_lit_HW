{
  "nbformat": 4,
  "nbformat_minor": 0,
  "metadata": {
    "colab": {
      "name": "Analyzing Distributions_HW_assignment_Part_2.ipynb",
      "version": "0.3.2",
      "provenance": [],
      "collapsed_sections": []
    },
    "kernelspec": {
      "name": "python3",
      "display_name": "Python 3"
    }
  },
  "cells": [
    {
      "cell_type": "code",
      "metadata": {
        "id": "9LeQ2iIpAd-K",
        "colab_type": "code",
        "colab": {
          "base_uri": "https://localhost:8080/",
          "height": 339
        },
        "outputId": "2f461eb1-37c5-46ad-f77f-05f425f75c1d"
      },
      "source": [
        "#https://chrisalbon.com/statistics/frequentist/demonstrate_the_central_limit_theorem/\n",
        "!pip install pydrive\n",
        "from pydrive.auth import GoogleAuth\n",
        "from pydrive.drive import GoogleDrive\n",
        "from google.colab import auth\n",
        "from oauth2client.client import GoogleCredentials\n",
        "#Authenticate and create pydrive client\n",
        "\n",
        "auth.authenticate_user()\n",
        "gauth = GoogleAuth()\n",
        "gauth.credentials = GoogleCredentials.get_application_default()\n",
        "drive = GoogleDrive(gauth)"
      ],
      "execution_count": 2,
      "outputs": [
        {
          "output_type": "stream",
          "text": [
            "Collecting pydrive\n",
            "\u001b[?25l  Downloading https://files.pythonhosted.org/packages/52/e0/0e64788e5dd58ce2d6934549676243dc69d982f198524be9b99e9c2a4fd5/PyDrive-1.3.1.tar.gz (987kB)\n",
            "\u001b[K     |████████████████████████████████| 993kB 4.9MB/s \n",
            "\u001b[?25hRequirement already satisfied: google-api-python-client>=1.2 in /usr/local/lib/python3.6/dist-packages (from pydrive) (1.6.7)\n",
            "Requirement already satisfied: oauth2client>=4.0.0 in /usr/local/lib/python3.6/dist-packages (from pydrive) (4.1.3)\n",
            "Requirement already satisfied: PyYAML>=3.0 in /usr/local/lib/python3.6/dist-packages (from pydrive) (3.13)\n",
            "Requirement already satisfied: httplib2<1dev,>=0.9.2 in /usr/local/lib/python3.6/dist-packages (from google-api-python-client>=1.2->pydrive) (0.11.3)\n",
            "Requirement already satisfied: uritemplate<4dev,>=3.0.0 in /usr/local/lib/python3.6/dist-packages (from google-api-python-client>=1.2->pydrive) (3.0.0)\n",
            "Requirement already satisfied: six<2dev,>=1.6.1 in /usr/local/lib/python3.6/dist-packages (from google-api-python-client>=1.2->pydrive) (1.12.0)\n",
            "Requirement already satisfied: pyasn1>=0.1.7 in /usr/local/lib/python3.6/dist-packages (from oauth2client>=4.0.0->pydrive) (0.4.5)\n",
            "Requirement already satisfied: rsa>=3.1.4 in /usr/local/lib/python3.6/dist-packages (from oauth2client>=4.0.0->pydrive) (4.0)\n",
            "Requirement already satisfied: pyasn1-modules>=0.0.5 in /usr/local/lib/python3.6/dist-packages (from oauth2client>=4.0.0->pydrive) (0.2.5)\n",
            "Building wheels for collected packages: pydrive\n",
            "  Building wheel for pydrive (setup.py) ... \u001b[?25l\u001b[?25hdone\n",
            "  Stored in directory: /root/.cache/pip/wheels/fa/d2/9a/d3b6b506c2da98289e5d417215ce34b696db856643bad779f4\n",
            "Successfully built pydrive\n",
            "Installing collected packages: pydrive\n",
            "Successfully installed pydrive-1.3.1\n"
          ],
          "name": "stdout"
        }
      ]
    },
    {
      "cell_type": "code",
      "metadata": {
        "id": "SIQNpVpEDOb9",
        "colab_type": "code",
        "colab": {}
      },
      "source": [
        "link='https://drive.google.com/open?id=1JpJis25voH1m9wWcgM2BzTTC_co2HSiT'\n",
        "fluff, id  = link.split(\"=\")"
      ],
      "execution_count": 0,
      "outputs": []
    },
    {
      "cell_type": "code",
      "metadata": {
        "id": "7RgjhibvDuKP",
        "colab_type": "code",
        "outputId": "5ab205e1-5776-40b7-934c-a8750137ad05",
        "colab": {
          "base_uri": "https://localhost:8080/",
          "height": 195
        }
      },
      "source": [
        "import pandas as pd\n",
        "downloaded = drive.CreateFile({\"id\":id})\n",
        "downloaded.GetContentFile('formatted_flights.csv')\n",
        "flights = pd.read_csv('formatted_flights.csv')\n",
        "flights.head()"
      ],
      "execution_count": 4,
      "outputs": [
        {
          "output_type": "execute_result",
          "data": {
            "text/html": [
              "<div>\n",
              "<style scoped>\n",
              "    .dataframe tbody tr th:only-of-type {\n",
              "        vertical-align: middle;\n",
              "    }\n",
              "\n",
              "    .dataframe tbody tr th {\n",
              "        vertical-align: top;\n",
              "    }\n",
              "\n",
              "    .dataframe thead th {\n",
              "        text-align: right;\n",
              "    }\n",
              "</style>\n",
              "<table border=\"1\" class=\"dataframe\">\n",
              "  <thead>\n",
              "    <tr style=\"text-align: right;\">\n",
              "      <th></th>\n",
              "      <th>Unnamed: 0</th>\n",
              "      <th>arr_delay</th>\n",
              "      <th>name</th>\n",
              "    </tr>\n",
              "  </thead>\n",
              "  <tbody>\n",
              "    <tr>\n",
              "      <th>0</th>\n",
              "      <td>0</td>\n",
              "      <td>11.0</td>\n",
              "      <td>United Air Lines Inc.</td>\n",
              "    </tr>\n",
              "    <tr>\n",
              "      <th>1</th>\n",
              "      <td>1</td>\n",
              "      <td>20.0</td>\n",
              "      <td>United Air Lines Inc.</td>\n",
              "    </tr>\n",
              "    <tr>\n",
              "      <th>2</th>\n",
              "      <td>2</td>\n",
              "      <td>33.0</td>\n",
              "      <td>American Airlines Inc.</td>\n",
              "    </tr>\n",
              "    <tr>\n",
              "      <th>3</th>\n",
              "      <td>3</td>\n",
              "      <td>-18.0</td>\n",
              "      <td>JetBlue Airways</td>\n",
              "    </tr>\n",
              "    <tr>\n",
              "      <th>4</th>\n",
              "      <td>4</td>\n",
              "      <td>-25.0</td>\n",
              "      <td>Delta Air Lines Inc.</td>\n",
              "    </tr>\n",
              "  </tbody>\n",
              "</table>\n",
              "</div>"
            ],
            "text/plain": [
              "   Unnamed: 0  arr_delay                    name\n",
              "0           0       11.0   United Air Lines Inc.\n",
              "1           1       20.0   United Air Lines Inc.\n",
              "2           2       33.0  American Airlines Inc.\n",
              "3           3      -18.0         JetBlue Airways\n",
              "4           4      -25.0    Delta Air Lines Inc."
            ]
          },
          "metadata": {
            "tags": []
          },
          "execution_count": 4
        }
      ]
    },
    {
      "cell_type": "markdown",
      "metadata": {
        "id": "E5vrWbW4pD6J",
        "colab_type": "text"
      },
      "source": [
        "**Central Limit Theorum**\n",
        "\n",
        "**1.   The sampling distribution of the mean will be less spread than the values in the population from which the sample is drawn.**\n",
        "\n",
        "\n",
        "**2.   The sampling distribution will be well-modeled by a normal distribution (and it will get closer with the larger sample sizes). **\n",
        "\n",
        "\n",
        "**3.   The spread of the sample distribution is related to the spread of the population values( pop_mean = mean,   sampl_std = pop_std/sqrt(n)).**\n",
        "\n",
        "\n",
        "**4.   The bigger sample lead to smaller spread in the sampling distribution(self-evident from the equation above)**\n",
        "\n",
        "\n",
        "\n"
      ]
    },
    {
      "cell_type": "code",
      "metadata": {
        "id": "9xw-Oqbzb4qz",
        "colab_type": "code",
        "outputId": "29937086-966d-4001-b53b-d4665b8bed5e",
        "colab": {
          "base_uri": "https://localhost:8080/",
          "height": 403
        }
      },
      "source": [
        "delays= flights['arr_delay']\n",
        "mean = delays.mean()\n",
        "std = delays.std()\n",
        "print(\"mean \", mean)\n",
        "print(\"std \", std)\n",
        "plt.hist(delays,bins=20, edgecolor='black')"
      ],
      "execution_count": 13,
      "outputs": [
        {
          "output_type": "stream",
          "text": [
            "mean  1.2971432896160044\n",
            "std  29.064401023259187\n"
          ],
          "name": "stdout"
        },
        {
          "output_type": "execute_result",
          "data": {
            "text/plain": [
              "(array([  731.,  3059.,  9838., 25861., 50812., 62100., 51650., 34469.,\n",
              "        21769., 14056.,  9919.,  7240.,  5680.,  4541.,  3712.,  3149.,\n",
              "         2593.,  2300.,  1887.,  1747.]),\n",
              " array([-60., -51., -42., -33., -24., -15.,  -6.,   3.,  12.,  21.,  30.,\n",
              "         39.,  48.,  57.,  66.,  75.,  84.,  93., 102., 111., 120.]),\n",
              " <a list of 20 Patch objects>)"
            ]
          },
          "metadata": {
            "tags": []
          },
          "execution_count": 13
        },
        {
          "output_type": "display_data",
          "data": {
            "image/png": "[encoded data removed]",
            "text/plain": [
              "<Figure size 432x288 with 1 Axes>"
            ]
          },
          "metadata": {
            "tags": []
          }
        }
      ]
    },
    {
      "cell_type": "code",
      "metadata": {
        "id": "tHI_QtJmcCDI",
        "colab_type": "code",
        "colab": {}
      },
      "source": [
        "sampled_means = []\n",
        "\n",
        "#Sample size = 50\n",
        "\n",
        "for i in range(0,1000):\n",
        "  sampled_means.append(delays.sample(n=50).mean())\n",
        "  "
      ],
      "execution_count": 0,
      "outputs": []
    },
    {
      "cell_type": "code",
      "metadata": {
        "id": "zT1jKfVTdwN-",
        "colab_type": "code",
        "outputId": "37ff81c1-7515-4267-fe10-97af43a8c0be",
        "colab": {
          "base_uri": "https://localhost:8080/",
          "height": 298
        }
      },
      "source": [
        "import matplotlib.pyplot as plt\n",
        "sample = pd.Series(sampled_means)\n",
        "s = plt.hist(sample,bins=20, edgecolor='black')\n",
        "plt.title('First Sample Size = 50')\n",
        "\n",
        "#_1_ = pd.Series(sampled_means).hist(bins=20,edgecolor='black')\n",
        "\n",
        "pd.Series(sampled_means).hist(bins=20,edgecolor='black')\n",
        "sample_mean = pd.Series(sampled_means).mean()\n",
        "sample_std = pd.Series(sampled_means).std()\n",
        "\n",
        "print('sample mean', sample_mean, \"sample std\", sample_std)"
      ],
      "execution_count": 7,
      "outputs": [
        {
          "output_type": "stream",
          "text": [
            "sample mean 1.2094400000000005 sample std 4.068269718799988\n"
          ],
          "name": "stdout"
        },
        {
          "output_type": "display_data",
          "data": {
            "image/png": "[encoded data removed]",
            "text/plain": [
              "<Figure size 432x288 with 1 Axes>"
            ]
          },
          "metadata": {
            "tags": []
          }
        }
      ]
    },
    {
      "cell_type": "code",
      "metadata": {
        "id": "ZsFArik0ekH4",
        "colab_type": "code",
        "colab": {}
      },
      "source": [
        "sampled_means2 = []\n",
        "\n",
        "#Sample size = 100\n",
        "\n",
        "for i in range(0,1000):\n",
        "  sampled_means2.append(delays.sample(n=100).mean())\n",
        "  "
      ],
      "execution_count": 0,
      "outputs": []
    },
    {
      "cell_type": "code",
      "metadata": {
        "id": "FBYnuohpfC_F",
        "colab_type": "code",
        "outputId": "51c90a50-faf3-4834-8856-bf5f83c89049",
        "colab": {
          "base_uri": "https://localhost:8080/",
          "height": 298
        }
      },
      "source": [
        "_2_ = pd.Series(sampled_means2).hist(bins=20,edgecolor='black')\n",
        "_2_.set_title('Sample Size=100')\n",
        "sample_mean = pd.Series(sampled_means2).mean()\n",
        "sample_std = pd.Series(sampled_means2).std()\n",
        "\n",
        "print('sample mean', sample_mean, \"sample std\", sample_std)"
      ],
      "execution_count": 9,
      "outputs": [
        {
          "output_type": "stream",
          "text": [
            "sample mean 1.353119999999998 sample std 2.908824973821615\n"
          ],
          "name": "stdout"
        },
        {
          "output_type": "display_data",
          "data": {
            "image/png": "[encoded data removed]",
            "text/plain": [
              "<Figure size 432x288 with 1 Axes>"
            ]
          },
          "metadata": {
            "tags": []
          }
        }
      ]
    },
    {
      "cell_type": "code",
      "metadata": {
        "id": "C2WgT7C0f3WP",
        "colab_type": "code",
        "colab": {}
      },
      "source": [
        "sampled_means3 = []\n",
        "\n",
        "#Sample size = 150\n",
        "\n",
        "for i in range(0,1000):\n",
        "  sampled_means3.append(delays.sample(n=150).mean())"
      ],
      "execution_count": 0,
      "outputs": []
    },
    {
      "cell_type": "code",
      "metadata": {
        "id": "zxdpdHacf-Wm",
        "colab_type": "code",
        "outputId": "c9fef832-357d-4421-9580-1ed9c1ef15f8",
        "colab": {
          "base_uri": "https://localhost:8080/",
          "height": 298
        }
      },
      "source": [
        "_3_ = pd.Series(sampled_means3).hist(bins=20,color='green', edgecolor='black')\n",
        "_3_.set_title('Sample Size=150')\n",
        "sample_mean = pd.Series(sampled_means3).mean()\n",
        "sample_std = pd.Series(sampled_means3).std()\n",
        "\n",
        "print('sample mean', sample_mean, \"sample std\", sample_std)"
      ],
      "execution_count": 11,
      "outputs": [
        {
          "output_type": "stream",
          "text": [
            "sample mean 1.3576266666666665 sample std 2.3433385876476707\n"
          ],
          "name": "stdout"
        },
        {
          "output_type": "display_data",
          "data": {
            "image/png": "[encoded data removed]",
            "text/plain": [
              "<Figure size 432x288 with 1 Axes>"
            ]
          },
          "metadata": {
            "tags": []
          }
        }
      ]
    },
    {
      "cell_type": "code",
      "metadata": {
        "id": "ZvYF8ws1hG1Z",
        "colab_type": "code",
        "outputId": "b923b695-4e00-45e0-e859-6b1147e2d1c7",
        "colab": {
          "base_uri": "https://localhost:8080/",
          "height": 286
        }
      },
      "source": [
        "_1_ = pd.Series(sampled_means).hist(bins=20,edgecolor='black')\n",
        "_2_ = pd.Series(sampled_means2).hist(bins=20,edgecolor='black')\n",
        "_3_ = pd.Series(sampled_means3).hist(bins=20,edgecolor='black')\n",
        "print(\"All three sample sizes plotted together\")"
      ],
      "execution_count": 12,
      "outputs": [
        {
          "output_type": "stream",
          "text": [
            "All three sample sizes plotted together\n"
          ],
          "name": "stdout"
        },
        {
          "output_type": "display_data",
          "data": {
            "image/png": "[encoded data removed]",
            "text/plain": [
              "<Figure size 432x288 with 1 Axes>"
            ]
          },
          "metadata": {
            "tags": []
          }
        }
      ]
    },
    {
      "cell_type": "markdown",
      "metadata": {
        "id": "O897ZMjyA1MR",
        "colab_type": "text"
      },
      "source": [
        "#Population\n",
        "mean  1.2971432896160044\n",
        "\n",
        "std  29.064401023259187\n",
        "\n",
        "#sample size = 150                                     \n",
        "mean 1.36\n",
        "std  2.34                            \n",
        "\n",
        "\n",
        "###     29/sqrt(150) = 2.3728\n",
        "\n",
        "### The sampled means follow the normal distribution and have a lessing spread as the sample sizes increase.  Everything that Central Limit Theorum states can be easily displayed by this workbook.  \n",
        "\n"
      ]
    }
  ]
}